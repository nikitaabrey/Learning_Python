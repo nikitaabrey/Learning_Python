{
 "cells": [
  {
   "cell_type": "markdown",
   "id": "713c4dc2",
   "metadata": {},
   "source": [
    "## Imports:"
   ]
  },
  {
   "cell_type": "code",
   "execution_count": 2,
   "id": "62a8faf1",
   "metadata": {},
   "outputs": [],
   "source": [
    "from pyvis.network import Network"
   ]
  },
  {
   "cell_type": "code",
   "execution_count": 14,
   "id": "ec541378",
   "metadata": {},
   "outputs": [
    {
     "data": {
      "text/html": [
       "\n",
       "        <iframe\n",
       "            width=\"500px\"\n",
       "            height=\"500px\"\n",
       "            src=\"example.html\"\n",
       "            frameborder=\"0\"\n",
       "            allowfullscreen\n",
       "            \n",
       "        ></iframe>\n",
       "        "
      ],
      "text/plain": [
       "<IPython.lib.display.IFrame at 0x241a05aa888>"
      ]
     },
     "execution_count": 14,
     "metadata": {},
     "output_type": "execute_result"
    }
   ],
   "source": [
    "#create vis network\n",
    "net = Network(notebook=True)\n",
    "\n",
    "#Add node to the network\n",
    "net.add_node(1, label=\"Node 1\")\n",
    "net.add_node(2)\n",
    "\n",
    "net.add_node(0, label='a')\n",
    "net.add_node(1, label='b')\n",
    "#net.add_edge(0, 1)\n",
    "net.add_edge(0, 1, weight=.87) #edge can contain a weight\n",
    "\n",
    "#add a list of nodes\n",
    "nodes = [\"a\", \"b\", \"c\", \"d\"]\n",
    "net.add_nodes(nodes)\n",
    "net.add_nodes(\"hello\")\n",
    "\n",
    "#show\n",
    "net.show(\"example.html\")"
   ]
  },
  {
   "cell_type": "code",
   "execution_count": 9,
   "id": "49eb77cb",
   "metadata": {},
   "outputs": [],
   "source": [
    "#adding list of nodes with properties\n",
    "g = Network()\n",
    "\n",
    "g.add_nodes([1,2,3], value=[10,100,400], \n",
    "            title=['I am node 1', 'node 2 here', 'and im node 3'],\n",
    "           x=[21.4, 54.2, 11.2],\n",
    "           y=[100.2, 23.54, 32.1],\n",
    "           label=['NODE 1', 'NODE 2', 'NODE 3'],\n",
    "           color=['#00ff1e', '#162347', '#dd4b39'])\n",
    "\n",
    "g.show(\"example.html\")"
   ]
  }
 ],
 "metadata": {
  "kernelspec": {
   "display_name": "Python 3 (ipykernel)",
   "language": "python",
   "name": "python3"
  },
  "language_info": {
   "codemirror_mode": {
    "name": "ipython",
    "version": 3
   },
   "file_extension": ".py",
   "mimetype": "text/x-python",
   "name": "python",
   "nbconvert_exporter": "python",
   "pygments_lexer": "ipython3",
   "version": "3.7.6"
  }
 },
 "nbformat": 4,
 "nbformat_minor": 5
}
